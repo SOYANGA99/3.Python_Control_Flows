{
 "cells": [
  {
   "cell_type": "markdown",
   "id": "9c8b5399",
   "metadata": {},
   "source": [
    "# IF / ELSE STATEMENT"
   ]
  },
  {
   "cell_type": "code",
   "execution_count": 1,
   "id": "47ae8514",
   "metadata": {},
   "outputs": [
    {
     "name": "stdout",
     "output_type": "stream",
     "text": [
      "Enter the number:-4\n",
      "4.0\n"
     ]
    }
   ],
   "source": [
    "val= input(\"Enter the number:-\")\n",
    "value_float=float(val) #Coverting str value to float.\n",
    "print (value_float)"
   ]
  },
  {
   "cell_type": "code",
   "execution_count": 4,
   "id": "0e596a9d",
   "metadata": {},
   "outputs": [
    {
     "name": "stdout",
     "output_type": "stream",
     "text": [
      "Enter the number:-456\n",
      "The no is greater than 100\n"
     ]
    }
   ],
   "source": [
    "#If statement:-\n",
    "\n",
    "val= input(\"Enter the number:-\")\n",
    "value_float=float(val)\n",
    "if(value_float > 100):\n",
    "    print(\"The no is greater than 100\")"
   ]
  },
  {
   "cell_type": "code",
   "execution_count": 5,
   "id": "1e5f2602",
   "metadata": {},
   "outputs": [
    {
     "data": {
      "text/plain": [
       "0"
      ]
     },
     "execution_count": 5,
     "metadata": {},
     "output_type": "execute_result"
    }
   ],
   "source": [
    "10%2"
   ]
  },
  {
   "cell_type": "code",
   "execution_count": 6,
   "id": "df8b83f6",
   "metadata": {},
   "outputs": [
    {
     "name": "stdout",
     "output_type": "stream",
     "text": [
      "Enter the number:-24\n",
      "The no is even\n"
     ]
    }
   ],
   "source": [
    "val= input(\"Enter the number:-\")\n",
    "value_float=float(val)\n",
    "if(value_float%2==0):\n",
    "    print(\"The no is even\")"
   ]
  },
  {
   "cell_type": "code",
   "execution_count": 7,
   "id": "a532000c",
   "metadata": {},
   "outputs": [
    {
     "data": {
      "text/plain": [
       "False"
      ]
     },
     "execution_count": 7,
     "metadata": {},
     "output_type": "execute_result"
    }
   ],
   "source": [
    "10%2!=0"
   ]
  },
  {
   "cell_type": "code",
   "execution_count": 9,
   "id": "8887b096",
   "metadata": {},
   "outputs": [
    {
     "name": "stdout",
     "output_type": "stream",
     "text": [
      "Enter the number:-5\n",
      "No is odd\n"
     ]
    }
   ],
   "source": [
    "#If-Else Statement:-\n",
    "\n",
    "val= input(\"Enter the number:-\")\n",
    "value_float=float(val)\n",
    "if(value_float%2==0):\n",
    "    print(\"The no is even\")\n",
    "else:\n",
    "    print(\"No is odd\")"
   ]
  },
  {
   "cell_type": "code",
   "execution_count": 11,
   "id": "6c5d2135",
   "metadata": {},
   "outputs": [
    {
     "name": "stdout",
     "output_type": "stream",
     "text": [
      "Enter the age:-45\n",
      "You Are Not In Not Minor Age\n"
     ]
    }
   ],
   "source": [
    "# Age form:-\n",
    "\n",
    "age=float(input(\"Enter the age:-\"))\n",
    "\n",
    "if (age<18):\n",
    "    print(\"You Are In Minor Age\")\n",
    "else:\n",
    "    print(\"You Are Not In Not Minor Age\")"
   ]
  },
  {
   "cell_type": "code",
   "execution_count": 14,
   "id": "4c119c8b",
   "metadata": {},
   "outputs": [
    {
     "name": "stdout",
     "output_type": "stream",
     "text": [
      "Enter the age:-45\n",
      "You Are In Mid Age\n"
     ]
    }
   ],
   "source": [
    "# Nested If-else Condition:-\n",
    "\n",
    "age=float(input(\"Enter the age:-\"))\n",
    "\n",
    "if (age<18):\n",
    "    print(\"You Are In Minor Age\")\n",
    "    \n",
    "elif(age>=18 and age<=45):\n",
    "    print(\"You Are In Mid Age\")\n",
    "    \n",
    "elif(age>45 and age<=50):\n",
    "    print(\"You Are In Senior Mid Age\")\n",
    "    \n",
    "else:\n",
    "    print(\"You Are Senior Citizen\")"
   ]
  },
  {
   "cell_type": "code",
   "execution_count": 18,
   "id": "2e810ca9",
   "metadata": {},
   "outputs": [
    {
     "name": "stdout",
     "output_type": "stream",
     "text": [
      "Enter the age:-13\n",
      "Minor Age\n",
      "You Are In School\n"
     ]
    }
   ],
   "source": [
    "# Nested If-else:-\n",
    "\n",
    "age=float(input(\"Enter the age:-\"))\n",
    "\n",
    "if (age<18):\n",
    "    print(\"Minor Age\")\n",
    "    if(age<15):\n",
    "        print(\"You Are In School\")\n",
    "    else:\n",
    "        print(\"You Are In College\")\n",
    "        \n",
    "else:\n",
    "    print(\"I Hope Now U Are Preparing For Ur Better Future Or U R Already Settled\")"
   ]
  },
  {
   "cell_type": "markdown",
   "id": "9b586708",
   "metadata": {},
   "source": [
    "# Loops Statements:-\n",
    "\n"
   ]
  },
  {
   "cell_type": "code",
   "execution_count": 19,
   "id": "a4a1b7e4",
   "metadata": {},
   "outputs": [
    {
     "name": "stdout",
     "output_type": "stream",
     "text": [
      "1\n",
      "2\n",
      "3\n",
      "4\n",
      "5\n",
      "6\n",
      "7\n"
     ]
    }
   ],
   "source": [
    "#For Loop:-\n",
    "\n",
    "lst=[1,2,3,4,5,6,7] #It's a list, A list is a collection of elements And It can be a homogeneous & heterogeneous element\n",
    "for i in lst:\n",
    "    print(i)"
   ]
  },
  {
   "cell_type": "code",
   "execution_count": 21,
   "id": "6c036ff4",
   "metadata": {},
   "outputs": [
    {
     "name": "stdout",
     "output_type": "stream",
     "text": [
      "1\n",
      "4\n",
      "9\n",
      "16\n",
      "25\n",
      "36\n",
      "49\n"
     ]
    }
   ],
   "source": [
    "# Find the power 2 of each elements:-\n",
    "\n",
    "lst=[1,2,3,4,5,6,7] \n",
    "for i in lst:\n",
    "    print(i**2)"
   ]
  },
  {
   "cell_type": "code",
   "execution_count": 3,
   "id": "ae26a81b",
   "metadata": {},
   "outputs": [
    {
     "name": "stdout",
     "output_type": "stream",
     "text": [
      "28\n"
     ]
    }
   ],
   "source": [
    "# Find the sum of all the elements in the list:-\n",
    "\n",
    "lst=[1,2,3,4,5,6,7]\n",
    "sum1=0\n",
    "for i in lst:\n",
    "    sum1=sum1+i\n",
    "print(sum1)"
   ]
  },
  {
   "cell_type": "code",
   "execution_count": 5,
   "id": "dc0fc334",
   "metadata": {},
   "outputs": [
    {
     "name": "stdout",
     "output_type": "stream",
     "text": [
      "Even sum is 12\n",
      "Odd sum is 16\n"
     ]
    }
   ],
   "source": [
    "# Find the sum of even and odd no:-\n",
    "lst=[1,2,3,4,5,6,7]\n",
    "even_sum=0\n",
    "odd_sum=0\n",
    "\n",
    "for i in lst:\n",
    "    if(i%2==0):\n",
    "        even_sum=even_sum+i\n",
    "    else:\n",
    "        odd_sum=odd_sum+i\n",
    "print(\"Even sum is {}\". format(even_sum))\n",
    "print(\"Odd sum is {}\". format(odd_sum))"
   ]
  },
  {
   "cell_type": "markdown",
   "id": "f33f557b",
   "metadata": {},
   "source": [
    "# While Condition"
   ]
  },
  {
   "cell_type": "code",
   "execution_count": 10,
   "id": "f4b1d8af",
   "metadata": {},
   "outputs": [
    {
     "name": "stdout",
     "output_type": "stream",
     "text": [
      "Even sum is 30\n",
      "Odd sum is 25\n"
     ]
    }
   ],
   "source": [
    "i=0\n",
    "even_sum=0\n",
    "odd_sum=0\n",
    "\n",
    "while(i<=10):\n",
    "    \n",
    "    if(i%2==0):\n",
    "        even_sum=even_sum+i\n",
    "    else:\n",
    "        odd_sum=odd_sum+i\n",
    "    i=i+1\n",
    "print(\"Even sum is {}\". format(even_sum))\n",
    "print(\"Odd sum is {}\". format(odd_sum))"
   ]
  },
  {
   "cell_type": "markdown",
   "id": "9f44d5a0",
   "metadata": {},
   "source": [
    "# Break Statement"
   ]
  },
  {
   "cell_type": "code",
   "execution_count": 16,
   "id": "db6d4878",
   "metadata": {},
   "outputs": [
    {
     "name": "stdout",
     "output_type": "stream",
     "text": [
      "Before break statement execute:- 1\n",
      "Before break statement execute:- 2\n",
      "Before break statement execute:- 3\n",
      "Before break statement execute:- 4\n"
     ]
    }
   ],
   "source": [
    "x=1\n",
    "while(x<7):\n",
    "    print(\"Before break statement execute:-\",x)\n",
    "    if (x==4):\n",
    "        break  #[It terminates the iteration process]       \n",
    "    x+=1\n"
   ]
  },
  {
   "cell_type": "markdown",
   "id": "dd806cb5",
   "metadata": {},
   "source": [
    "# Continue Statement"
   ]
  },
  {
   "cell_type": "code",
   "execution_count": 17,
   "id": "bd257130",
   "metadata": {},
   "outputs": [
    {
     "name": "stdout",
     "output_type": "stream",
     "text": [
      "1\n",
      "2\n",
      "3\n",
      "5\n",
      "6\n",
      "7\n"
     ]
    }
   ],
   "source": [
    "x=0\n",
    "while x<7:\n",
    "    x+=1\n",
    "    if x==4:\n",
    "        continue #[It skips that value]\n",
    "    print(x)"
   ]
  },
  {
   "cell_type": "code",
   "execution_count": null,
   "id": "e2ddeada",
   "metadata": {},
   "outputs": [],
   "source": []
  }
 ],
 "metadata": {
  "kernelspec": {
   "display_name": "Python 3 (ipykernel)",
   "language": "python",
   "name": "python3"
  },
  "language_info": {
   "codemirror_mode": {
    "name": "ipython",
    "version": 3
   },
   "file_extension": ".py",
   "mimetype": "text/x-python",
   "name": "python",
   "nbconvert_exporter": "python",
   "pygments_lexer": "ipython3",
   "version": "3.9.13"
  }
 },
 "nbformat": 4,
 "nbformat_minor": 5
}
